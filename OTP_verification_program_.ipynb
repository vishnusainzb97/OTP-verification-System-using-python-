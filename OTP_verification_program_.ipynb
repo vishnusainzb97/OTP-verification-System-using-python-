{
 "cells": [
  {
   "cell_type": "markdown",
   "metadata": {
    "id": "MsbBGjdwiVfR"
   },
   "source": [
    "OTP VERIFICATION SYSTEM USING PYTHON"
   ]
  },
  {
   "cell_type": "code",
   "execution_count": 6,
   "metadata": {
    "colab": {
     "base_uri": "https://localhost:8080/"
    },
    "id": "WW3lx3m_iGus",
    "outputId": "414cce47-8ed2-4adb-e2ee-d8f529f03892"
   },
   "outputs": [
    {
     "name": "stdin",
     "output_type": "stream",
     "text": [
      "Enter your email address:  vishnurachakatla@gmail.com\n"
     ]
    },
    {
     "name": "stdout",
     "output_type": "stream",
     "text": [
      "OTP sent to vishnurachakatla@gmail.com.\n"
     ]
    },
    {
     "name": "stdin",
     "output_type": "stream",
     "text": [
      "Enter the OTP sent to your email:  709098\n"
     ]
    },
    {
     "name": "stdout",
     "output_type": "stream",
     "text": [
      " OTP verified Access Granted!\n"
     ]
    }
   ],
   "source": [
    "#importing required libraries and protocols\n",
    "import random\n",
    "import smtplib\n",
    "from email.mime.text import MIMEText\n",
    "\n",
    "\n",
    "# to generate random numbers as OTP 6 didgits default\n",
    "\n",
    "def generate_otp():\n",
    "    return str(random.randint(100000, 999999))\n",
    "\n",
    "\n",
    "# Simulate sending an OTP to the user's email address.\n",
    "def send_email(otp, recipient_email):\n",
    "    try:\n",
    "        # Configure email settings\n",
    "        sender_email = \"quickseconds6@gmail.com\"\n",
    "        sender_password = \"mwtj pkxl ogdq bmkv\"\n",
    "\n",
    "        # Prepare email message\n",
    "        subject = \"Your OTP Verification Code\"\n",
    "        body = f\"Your OTP is: {otp}\\nThis OTP is valid for 10 minutes.\"\n",
    "        msg = MIMEText(body)\n",
    "        msg[\"Subject\"] = subject\n",
    "        msg[\"From\"] = sender_email\n",
    "        msg[\"To\"] = recipient_email\n",
    "\n",
    "        # Send email using SMTP server\n",
    "        with smtplib.SMTP_SSL(\"smtp.gmail.com\", 465) as server:\n",
    "            server.login(sender_email, sender_password)\n",
    "            server.send_message(msg)\n",
    "\n",
    "        print(f\"OTP sent to {recipient_email}.\")\n",
    "# prevents invalid email formats\n",
    "    except Exception as e:\n",
    "        print(\"Error sending email,Please Enter a VALID Email ID:\", e)\n",
    "\n",
    "\n",
    "# Prompt the user to enter the OTP they received.\n",
    "def get_user_input():\n",
    "    return input(\"Enter the OTP sent to your email: \")\n",
    "\n",
    "\n",
    "#verifying OTP that has been sent\n",
    "def verify_otp(generated_otp, user_otp):\n",
    "    return generated_otp == user_otp\n",
    "\n",
    "\n",
    "# Main function to implement the OTP verification system.\n",
    "def otp_verification_system():\n",
    "    recipient_email = input(\"Enter your email address: \")\n",
    "    otp = generate_otp()\n",
    "    send_email(otp, recipient_email)\n",
    "\n",
    "    attempts = 3\n",
    "    while attempts > 0:\n",
    "        user_otp = get_user_input()\n",
    "        if verify_otp(otp, user_otp):\n",
    "            print(\" OTP verified Access Granted!\")\n",
    "            return\n",
    "        else:\n",
    "            attempts -= 1\n",
    "            print(f\"Invalid OTP.please try again,You have {attempts} attempt(s) remaining.\")\n",
    "\n",
    "    print(\"Access Denied. Please try again later.\")\n",
    "\n",
    "if __name__ == \"__main__\":\n",
    "    otp_verification_system()\n"
   ]
  },
  {
   "cell_type": "code",
   "execution_count": null,
   "metadata": {},
   "outputs": [],
   "source": []
  }
 ],
 "metadata": {
  "colab": {
   "provenance": []
  },
  "kernelspec": {
   "display_name": "Python 3 (ipykernel)",
   "language": "python",
   "name": "python3"
  },
  "language_info": {
   "codemirror_mode": {
    "name": "ipython",
    "version": 3
   },
   "file_extension": ".py",
   "mimetype": "text/x-python",
   "name": "python",
   "nbconvert_exporter": "python",
   "pygments_lexer": "ipython3",
   "version": "3.12.4"
  }
 },
 "nbformat": 4,
 "nbformat_minor": 4
}
